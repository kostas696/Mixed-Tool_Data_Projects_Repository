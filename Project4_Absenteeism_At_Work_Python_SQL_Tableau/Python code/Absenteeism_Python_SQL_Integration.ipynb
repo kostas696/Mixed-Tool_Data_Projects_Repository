{
  "cells": [
    {
      "cell_type": "code",
      "execution_count": 1,
      "metadata": {
        "colab": {
          "base_uri": "https://localhost:8080/"
        },
        "id": "ZZ3pdmZHtsmH",
        "outputId": "c734203a-002f-4571-c118-c38bfa136e6b"
      },
      "outputs": [
        {
          "name": "stdout",
          "output_type": "stream",
          "text": [
            "Requirement already satisfied: pymysql in c:\\users\\user\\anaconda3\\lib\\site-packages (1.1.0)\n",
            "Note: you may need to restart the kernel to use updated packages.\n"
          ]
        }
      ],
      "source": [
        "pip install pymysql"
      ]
    },
    {
      "cell_type": "code",
      "execution_count": 2,
      "metadata": {
        "id": "eWjGodgKtz3t"
      },
      "outputs": [],
      "source": [
        "import pandas as pd\n",
        "import pymysql\n",
        "from absenteeism_module import AbsenteeismPredictor"
      ]
    },
    {
      "cell_type": "code",
      "execution_count": 5,
      "metadata": {
        "colab": {
          "base_uri": "https://localhost:8080/",
          "height": 206
        },
        "id": "y80C1V2LxADe",
        "outputId": "25f5f47a-f875-41db-dee0-ba6d82dbd91d"
      },
      "outputs": [
        {
          "name": "stderr",
          "output_type": "stream",
          "text": [
            "c:\\Users\\User\\anaconda3\\lib\\site-packages\\sklearn\\base.py:347: InconsistentVersionWarning: Trying to unpickle estimator LogisticRegression from version 1.2.2 when using version 1.3.0. This might lead to breaking code or invalid results. Use at your own risk. For more info please refer to:\n",
            "https://scikit-learn.org/stable/model_persistence.html#security-maintainability-limitations\n",
            "  warnings.warn(\n",
            "c:\\Users\\User\\anaconda3\\lib\\site-packages\\sklearn\\base.py:347: InconsistentVersionWarning: Trying to unpickle estimator StandardScaler from version 1.2.2 when using version 1.3.0. This might lead to breaking code or invalid results. Use at your own risk. For more info please refer to:\n",
            "https://scikit-learn.org/stable/model_persistence.html#security-maintainability-limitations\n",
            "  warnings.warn(\n"
          ]
        },
        {
          "data": {
            "text/html": [
              "<div>\n",
              "<style scoped>\n",
              "    .dataframe tbody tr th:only-of-type {\n",
              "        vertical-align: middle;\n",
              "    }\n",
              "\n",
              "    .dataframe tbody tr th {\n",
              "        vertical-align: top;\n",
              "    }\n",
              "\n",
              "    .dataframe thead th {\n",
              "        text-align: right;\n",
              "    }\n",
              "</style>\n",
              "<table border=\"1\" class=\"dataframe\">\n",
              "  <thead>\n",
              "    <tr style=\"text-align: right;\">\n",
              "      <th></th>\n",
              "      <th>Group_1</th>\n",
              "      <th>Group_2</th>\n",
              "      <th>Group_3</th>\n",
              "      <th>Group_4</th>\n",
              "      <th>Month</th>\n",
              "      <th>Day_of_Week</th>\n",
              "      <th>Transportation_Expense</th>\n",
              "      <th>Distance_to_Work</th>\n",
              "      <th>Age</th>\n",
              "      <th>Body_Mass_Index</th>\n",
              "      <th>Education</th>\n",
              "      <th>Children</th>\n",
              "      <th>Pets</th>\n",
              "      <th>Probability</th>\n",
              "      <th>Prediction</th>\n",
              "    </tr>\n",
              "  </thead>\n",
              "  <tbody>\n",
              "    <tr>\n",
              "      <th>0</th>\n",
              "      <td>True</td>\n",
              "      <td>0.0</td>\n",
              "      <td>0.0</td>\n",
              "      <td>0.0</td>\n",
              "      <td>6</td>\n",
              "      <td>4</td>\n",
              "      <td>179</td>\n",
              "      <td>26</td>\n",
              "      <td>30</td>\n",
              "      <td>19</td>\n",
              "      <td>1</td>\n",
              "      <td>0</td>\n",
              "      <td>0</td>\n",
              "      <td>0.492704</td>\n",
              "      <td>0</td>\n",
              "    </tr>\n",
              "    <tr>\n",
              "      <th>1</th>\n",
              "      <td>True</td>\n",
              "      <td>0.0</td>\n",
              "      <td>0.0</td>\n",
              "      <td>0.0</td>\n",
              "      <td>6</td>\n",
              "      <td>0</td>\n",
              "      <td>361</td>\n",
              "      <td>52</td>\n",
              "      <td>28</td>\n",
              "      <td>27</td>\n",
              "      <td>0</td>\n",
              "      <td>1</td>\n",
              "      <td>4</td>\n",
              "      <td>0.788618</td>\n",
              "      <td>1</td>\n",
              "    </tr>\n",
              "    <tr>\n",
              "      <th>2</th>\n",
              "      <td>True</td>\n",
              "      <td>0.0</td>\n",
              "      <td>0.0</td>\n",
              "      <td>0.0</td>\n",
              "      <td>6</td>\n",
              "      <td>2</td>\n",
              "      <td>155</td>\n",
              "      <td>12</td>\n",
              "      <td>34</td>\n",
              "      <td>25</td>\n",
              "      <td>0</td>\n",
              "      <td>2</td>\n",
              "      <td>0</td>\n",
              "      <td>0.789784</td>\n",
              "      <td>1</td>\n",
              "    </tr>\n",
              "    <tr>\n",
              "      <th>3</th>\n",
              "      <td>True</td>\n",
              "      <td>0.0</td>\n",
              "      <td>0.0</td>\n",
              "      <td>0.0</td>\n",
              "      <td>6</td>\n",
              "      <td>4</td>\n",
              "      <td>179</td>\n",
              "      <td>22</td>\n",
              "      <td>40</td>\n",
              "      <td>22</td>\n",
              "      <td>1</td>\n",
              "      <td>2</td>\n",
              "      <td>0</td>\n",
              "      <td>0.599921</td>\n",
              "      <td>1</td>\n",
              "    </tr>\n",
              "    <tr>\n",
              "      <th>4</th>\n",
              "      <td>True</td>\n",
              "      <td>0.0</td>\n",
              "      <td>0.0</td>\n",
              "      <td>0.0</td>\n",
              "      <td>6</td>\n",
              "      <td>4</td>\n",
              "      <td>155</td>\n",
              "      <td>12</td>\n",
              "      <td>34</td>\n",
              "      <td>25</td>\n",
              "      <td>0</td>\n",
              "      <td>2</td>\n",
              "      <td>0</td>\n",
              "      <td>0.758106</td>\n",
              "      <td>1</td>\n",
              "    </tr>\n",
              "  </tbody>\n",
              "</table>\n",
              "</div>"
            ],
            "text/plain": [
              "   Group_1  Group_2  Group_3  Group_4  Month  Day_of_Week  \\\n",
              "0     True      0.0      0.0      0.0      6            4   \n",
              "1     True      0.0      0.0      0.0      6            0   \n",
              "2     True      0.0      0.0      0.0      6            2   \n",
              "3     True      0.0      0.0      0.0      6            4   \n",
              "4     True      0.0      0.0      0.0      6            4   \n",
              "\n",
              "   Transportation_Expense  Distance_to_Work  Age  Body_Mass_Index  Education  \\\n",
              "0                     179                26   30               19          1   \n",
              "1                     361                52   28               27          0   \n",
              "2                     155                12   34               25          0   \n",
              "3                     179                22   40               22          1   \n",
              "4                     155                12   34               25          0   \n",
              "\n",
              "   Children  Pets  Probability  Prediction  \n",
              "0         0     0     0.492704           0  \n",
              "1         1     4     0.788618           1  \n",
              "2         2     0     0.789784           1  \n",
              "3         2     0     0.599921           1  \n",
              "4         2     0     0.758106           1  "
            ]
          },
          "execution_count": 5,
          "metadata": {},
          "output_type": "execute_result"
        }
      ],
      "source": [
        "predictor = AbsenteeismPredictor(model_path='model_with_scaler')\n",
        "\n",
        "new_data_path = 'Absenteeism_new_data.csv'\n",
        "predictor.preprocess_data(new_data_path)\n",
        "\n",
        "predictions = predictor.predicted_outputs()\n",
        "predictions.head()"
      ]
    },
    {
      "cell_type": "code",
      "execution_count": null,
      "metadata": {
        "id": "8DoifcyqXtNJ"
      },
      "outputs": [],
      "source": [
        "predictions.to_csv('Absenteeism_predictions.csv', index=False)"
      ]
    },
    {
      "cell_type": "code",
      "execution_count": 9,
      "metadata": {
        "colab": {
          "base_uri": "https://localhost:8080/",
          "height": 442
        },
        "id": "mc3l5uJWt6d_",
        "outputId": "ede18307-d6ae-49d0-cee4-e365878c248d"
      },
      "outputs": [
        {
          "name": "stdout",
          "output_type": "stream",
          "text": [
            "   Group_1  Group_2  Group_3  Group_4  Month  Day_of_Week  \\\n",
            "0        1      0.0      0.0      0.0      6            4   \n",
            "1        1      0.0      0.0      0.0      6            0   \n",
            "2        1      0.0      0.0      0.0      6            2   \n",
            "3        1      0.0      0.0      0.0      6            4   \n",
            "4        1      0.0      0.0      0.0      6            4   \n",
            "\n",
            "   Transportation_Expense  Distance_to_Work  Age  Body_Mass_Index  Education  \\\n",
            "0                     179                26   30               19          1   \n",
            "1                     361                52   28               27          0   \n",
            "2                     155                12   34               25          0   \n",
            "3                     179                22   40               22          1   \n",
            "4                     155                12   34               25          0   \n",
            "\n",
            "   Children  Pets  Probability  Prediction  \n",
            "0         0     0     0.492704           0  \n",
            "1         1     4     0.788618           1  \n",
            "2         2     0     0.789784           1  \n",
            "3         2     0     0.599921           1  \n",
            "4         2     0     0.758106           1  \n"
          ]
        }
      ],
      "source": [
        "# Specify the file path\n",
        "csv_file_path = r\"C:\\Users\\User\\Downloads\\Absenteeism_predictions.csv\"\n",
        "\n",
        "# Load the CSV file into a DataFrame\n",
        "predictions = pd.read_csv(csv_file_path)\n",
        "\n",
        "# Display the DataFrame\n",
        "print(predictions.head())"
      ]
    },
    {
      "cell_type": "code",
      "execution_count": 21,
      "metadata": {},
      "outputs": [],
      "source": [
        "# Connect to the MySQL database\n",
        "conn = pymysql.connect(database='predicted_outputs', user='root', password='Arcturus904#', host='localhost')"
      ]
    },
    {
      "cell_type": "code",
      "execution_count": 22,
      "metadata": {},
      "outputs": [],
      "source": [
        "# Create a cursor object\n",
        "cursor = conn.cursor()"
      ]
    },
    {
      "cell_type": "code",
      "execution_count": 23,
      "metadata": {},
      "outputs": [
        {
          "data": {
            "text/plain": [
              "0"
            ]
          },
          "execution_count": 23,
          "metadata": {},
          "output_type": "execute_result"
        }
      ],
      "source": [
        "cursor.execute('SELECT * FROM predicted_outputs;')"
      ]
    },
    {
      "cell_type": "code",
      "execution_count": 25,
      "metadata": {},
      "outputs": [
        {
          "data": {
            "text/plain": [
              "'INSERT INTO predicted_outputs VALUES '"
            ]
          },
          "execution_count": 25,
          "metadata": {},
          "output_type": "execute_result"
        }
      ],
      "source": [
        "insert_query = 'INSERT INTO predicted_outputs VALUES '\n",
        "insert_query"
      ]
    },
    {
      "cell_type": "code",
      "execution_count": 26,
      "metadata": {},
      "outputs": [
        {
          "data": {
            "text/plain": [
              "(40, 15)"
            ]
          },
          "execution_count": 26,
          "metadata": {},
          "output_type": "execute_result"
        }
      ],
      "source": [
        "predictions.shape"
      ]
    },
    {
      "cell_type": "code",
      "execution_count": 27,
      "metadata": {},
      "outputs": [
        {
          "data": {
            "text/plain": [
              "array(['Group_1', 'Group_2', 'Group_3', 'Group_4', 'Month', 'Day_of_Week',\n",
              "       'Transportation_Expense', 'Distance_to_Work', 'Age',\n",
              "       'Body_Mass_Index', 'Education', 'Children', 'Pets', 'Probability',\n",
              "       'Prediction'], dtype=object)"
            ]
          },
          "execution_count": 27,
          "metadata": {},
          "output_type": "execute_result"
        }
      ],
      "source": [
        "predictions.columns.values"
      ]
    },
    {
      "cell_type": "code",
      "execution_count": 28,
      "metadata": {},
      "outputs": [
        {
          "name": "stdout",
          "output_type": "stream",
          "text": [
            "INSERT INTO predicted_outputs VALUES \n"
          ]
        }
      ],
      "source": [
        "print(insert_query)\n"
      ]
    },
    {
      "cell_type": "code",
      "execution_count": 29,
      "metadata": {},
      "outputs": [],
      "source": [
        "for i in range(predictions.shape[0]):\n",
        "    insert_query += '('\n",
        "\n",
        "    for j in range(predictions.shape[1]):\n",
        "        insert_query += str(predictions[predictions.columns.values[j]][i]) + ', '\n",
        "\n",
        "    insert_query = insert_query[:-2] + '), '"
      ]
    },
    {
      "cell_type": "code",
      "execution_count": 30,
      "metadata": {},
      "outputs": [
        {
          "data": {
            "text/plain": [
              "'INSERT INTO predicted_outputs VALUES (1, 0.0, 0.0, 0.0, 6, 4, 179, 26, 30, 19, 1, 0, 0, 0.4927036211603812, 0), (1, 0.0, 0.0, 0.0, 6, 0, 361, 52, 28, 27, 0, 1, 4, 0.7886178817698664, 1), (1, 0.0, 0.0, 0.0, 6, 2, 155, 12, 34, 25, 0, 2, 0, 0.7897838737731463, 1), (1, 0.0, 0.0, 0.0, 6, 4, 179, 22, 40, 22, 1, 2, 0, 0.5999209452353255, 1), (1, 0.0, 0.0, 0.0, 6, 4, 155, 12, 34, 25, 0, 2, 0, 0.7581062578002006, 1), (1, 0.0, 0.0, 0.0, 6, 0, 225, 26, 28, 24, 0, 1, 2, 0.7311207679748966, 1), (1, 0.0, 0.0, 0.0, 6, 2, 118, 15, 46, 25, 0, 2, 0, 0.610010241631534, 1), (1, 0.0, 0.0, 0.0, 6, 2, 179, 26, 30, 19, 1, 0, 0, 0.5379544867097039, 1), (1, 0.0, 0.0, 0.0, 6, 4, 118, 10, 37, 28, 0, 0, 0, 0.5451952510544337, 1), (1, 0.0, 0.0, 0.0, 6, 2, 118, 10, 37, 28, 0, 0, 0, 0.5896633674254144, 1), (1, 0.0, 0.0, 0.0, 6, 3, 378, 49, 36, 21, 0, 2, 4, 0.7099640066324265, 1), (1, 0.0, 0.0, 0.0, 6, 3, 118, 13, 50, 31, 0, 1, 0, 0.5482756291918718, 1), (1, 0.0, 0.0, 0.0, 6, 4, 233, 51, 31, 21, 1, 1, 8, 0.047683708624971, 0), (1, 0.0, 0.0, 0.0, 6, 4, 179, 26, 30, 19, 1, 0, 0, 0.4927036211603812, 0), (0, 0.0, 0.0, 0.0, 6, 0, 235, 29, 48, 33, 0, 1, 5, 0.0313580254100218, 0), (0, 0.0, 0.0, 0.0, 6, 3, 268, 11, 33, 25, 1, 0, 0, 0.1738015803196392, 0), (1, 0.0, 0.0, 0.0, 6, 3, 118, 13, 50, 31, 0, 1, 0, 0.5482756291918718, 1), (1, 0.0, 0.0, 0.0, 6, 3, 179, 26, 30, 19, 1, 0, 0, 0.515360536448495, 1), (1, 0.0, 0.0, 0.0, 6, 3, 291, 31, 40, 25, 0, 1, 1, 0.7878993524914517, 1), (1, 0.0, 0.0, 0.0, 7, 0, 179, 26, 30, 19, 1, 0, 0, 0.5896989990818372, 1), (1, 0.0, 0.0, 0.0, 7, 0, 118, 10, 37, 28, 0, 0, 0, 0.6394976727928864, 1), (1, 0.0, 0.0, 0.0, 7, 3, 233, 51, 31, 21, 1, 1, 8, 0.0534364074990348, 0), (1, 0.0, 0.0, 0.0, 7, 4, 118, 10, 37, 28, 0, 0, 0, 0.552453364508935, 1), (1, 0.0, 0.0, 0.0, 7, 2, 118, 10, 37, 28, 0, 0, 0, 0.5967367345967907, 1), (1, 0.0, 0.0, 0.0, 7, 2, 233, 51, 31, 21, 1, 1, 8, 0.0582115557769383, 0), (1, 0.0, 0.0, 0.0, 7, 2, 235, 20, 43, 38, 0, 1, 0, 0.8837185136358443, 1), (1, 0.0, 0.0, 0.0, 7, 4, 233, 51, 31, 21, 1, 1, 8, 0.0490325754009572, 0), (1, 0.0, 0.0, 0.0, 7, 0, 228, 14, 58, 22, 0, 2, 1, 0.6366858396890587, 1), (1, 0.0, 0.0, 0.0, 7, 0, 118, 10, 37, 28, 0, 0, 0, 0.6394976727928864, 1), (1, 0.0, 0.0, 0.0, 7, 1, 228, 14, 58, 22, 0, 2, 1, 0.6154688080398149, 1), (1, 0.0, 0.0, 0.0, 7, 1, 189, 29, 33, 25, 0, 2, 2, 0.680425127306255, 1), (1, 0.0, 0.0, 0.0, 7, 2, 118, 10, 37, 28, 0, 0, 0, 0.5967367345967907, 1), (1, 0.0, 0.0, 0.0, 7, 2, 361, 52, 28, 27, 0, 1, 4, 0.7621727665519967, 1), (1, 0.0, 0.0, 0.0, 7, 2, 225, 26, 28, 24, 0, 1, 2, 0.7002168455607353, 1), (1, 0.0, 0.0, 0.0, 7, 0, 369, 17, 31, 25, 0, 3, 0, 0.9811763321585096, 1), (1, 0.0, 0.0, 0.0, 7, 1, 289, 36, 33, 30, 0, 2, 1, 0.9142598657424366, 1), (1, 0.0, 0.0, 0.0, 7, 1, 235, 11, 37, 29, 1, 1, 1, 0.7357600941635054, 1), (0, 0.0, 0.0, 0.0, 7, 1, 118, 14, 40, 34, 0, 1, 8, 0.0042436230418642, 0), (0, 0.0, 0.0, 0.0, 7, 2, 231, 35, 39, 35, 0, 2, 2, 0.1881565411146061, 0), (0, 0.0, 0.0, 0.0, 7, 4, 179, 45, 53, 25, 0, 1, 1, 0.0387733967551317, 0), '"
            ]
          },
          "execution_count": 30,
          "metadata": {},
          "output_type": "execute_result"
        }
      ],
      "source": [
        "insert_query"
      ]
    },
    {
      "cell_type": "code",
      "execution_count": 31,
      "metadata": {},
      "outputs": [
        {
          "data": {
            "text/plain": [
              "'INSERT INTO predicted_outputs VALUES (1, 0.0, 0.0, 0.0, 6, 4, 179, 26, 30, 19, 1, 0, 0, 0.4927036211603812, 0), (1, 0.0, 0.0, 0.0, 6, 0, 361, 52, 28, 27, 0, 1, 4, 0.7886178817698664, 1), (1, 0.0, 0.0, 0.0, 6, 2, 155, 12, 34, 25, 0, 2, 0, 0.7897838737731463, 1), (1, 0.0, 0.0, 0.0, 6, 4, 179, 22, 40, 22, 1, 2, 0, 0.5999209452353255, 1), (1, 0.0, 0.0, 0.0, 6, 4, 155, 12, 34, 25, 0, 2, 0, 0.7581062578002006, 1), (1, 0.0, 0.0, 0.0, 6, 0, 225, 26, 28, 24, 0, 1, 2, 0.7311207679748966, 1), (1, 0.0, 0.0, 0.0, 6, 2, 118, 15, 46, 25, 0, 2, 0, 0.610010241631534, 1), (1, 0.0, 0.0, 0.0, 6, 2, 179, 26, 30, 19, 1, 0, 0, 0.5379544867097039, 1), (1, 0.0, 0.0, 0.0, 6, 4, 118, 10, 37, 28, 0, 0, 0, 0.5451952510544337, 1), (1, 0.0, 0.0, 0.0, 6, 2, 118, 10, 37, 28, 0, 0, 0, 0.5896633674254144, 1), (1, 0.0, 0.0, 0.0, 6, 3, 378, 49, 36, 21, 0, 2, 4, 0.7099640066324265, 1), (1, 0.0, 0.0, 0.0, 6, 3, 118, 13, 50, 31, 0, 1, 0, 0.5482756291918718, 1), (1, 0.0, 0.0, 0.0, 6, 4, 233, 51, 31, 21, 1, 1, 8, 0.047683708624971, 0), (1, 0.0, 0.0, 0.0, 6, 4, 179, 26, 30, 19, 1, 0, 0, 0.4927036211603812, 0), (0, 0.0, 0.0, 0.0, 6, 0, 235, 29, 48, 33, 0, 1, 5, 0.0313580254100218, 0), (0, 0.0, 0.0, 0.0, 6, 3, 268, 11, 33, 25, 1, 0, 0, 0.1738015803196392, 0), (1, 0.0, 0.0, 0.0, 6, 3, 118, 13, 50, 31, 0, 1, 0, 0.5482756291918718, 1), (1, 0.0, 0.0, 0.0, 6, 3, 179, 26, 30, 19, 1, 0, 0, 0.515360536448495, 1), (1, 0.0, 0.0, 0.0, 6, 3, 291, 31, 40, 25, 0, 1, 1, 0.7878993524914517, 1), (1, 0.0, 0.0, 0.0, 7, 0, 179, 26, 30, 19, 1, 0, 0, 0.5896989990818372, 1), (1, 0.0, 0.0, 0.0, 7, 0, 118, 10, 37, 28, 0, 0, 0, 0.6394976727928864, 1), (1, 0.0, 0.0, 0.0, 7, 3, 233, 51, 31, 21, 1, 1, 8, 0.0534364074990348, 0), (1, 0.0, 0.0, 0.0, 7, 4, 118, 10, 37, 28, 0, 0, 0, 0.552453364508935, 1), (1, 0.0, 0.0, 0.0, 7, 2, 118, 10, 37, 28, 0, 0, 0, 0.5967367345967907, 1), (1, 0.0, 0.0, 0.0, 7, 2, 233, 51, 31, 21, 1, 1, 8, 0.0582115557769383, 0), (1, 0.0, 0.0, 0.0, 7, 2, 235, 20, 43, 38, 0, 1, 0, 0.8837185136358443, 1), (1, 0.0, 0.0, 0.0, 7, 4, 233, 51, 31, 21, 1, 1, 8, 0.0490325754009572, 0), (1, 0.0, 0.0, 0.0, 7, 0, 228, 14, 58, 22, 0, 2, 1, 0.6366858396890587, 1), (1, 0.0, 0.0, 0.0, 7, 0, 118, 10, 37, 28, 0, 0, 0, 0.6394976727928864, 1), (1, 0.0, 0.0, 0.0, 7, 1, 228, 14, 58, 22, 0, 2, 1, 0.6154688080398149, 1), (1, 0.0, 0.0, 0.0, 7, 1, 189, 29, 33, 25, 0, 2, 2, 0.680425127306255, 1), (1, 0.0, 0.0, 0.0, 7, 2, 118, 10, 37, 28, 0, 0, 0, 0.5967367345967907, 1), (1, 0.0, 0.0, 0.0, 7, 2, 361, 52, 28, 27, 0, 1, 4, 0.7621727665519967, 1), (1, 0.0, 0.0, 0.0, 7, 2, 225, 26, 28, 24, 0, 1, 2, 0.7002168455607353, 1), (1, 0.0, 0.0, 0.0, 7, 0, 369, 17, 31, 25, 0, 3, 0, 0.9811763321585096, 1), (1, 0.0, 0.0, 0.0, 7, 1, 289, 36, 33, 30, 0, 2, 1, 0.9142598657424366, 1), (1, 0.0, 0.0, 0.0, 7, 1, 235, 11, 37, 29, 1, 1, 1, 0.7357600941635054, 1), (0, 0.0, 0.0, 0.0, 7, 1, 118, 14, 40, 34, 0, 1, 8, 0.0042436230418642, 0), (0, 0.0, 0.0, 0.0, 7, 2, 231, 35, 39, 35, 0, 2, 2, 0.1881565411146061, 0), (0, 0.0, 0.0, 0.0, 7, 4, 179, 45, 53, 25, 0, 1, 1, 0.0387733967551317, 0);'"
            ]
          },
          "execution_count": 31,
          "metadata": {},
          "output_type": "execute_result"
        }
      ],
      "source": [
        "insert_query = insert_query[:-2] + ';'\n",
        "insert_query"
      ]
    },
    {
      "cell_type": "code",
      "execution_count": 32,
      "metadata": {},
      "outputs": [
        {
          "data": {
            "text/plain": [
              "40"
            ]
          },
          "execution_count": 32,
          "metadata": {},
          "output_type": "execute_result"
        }
      ],
      "source": [
        "cursor.execute(insert_query)"
      ]
    },
    {
      "cell_type": "code",
      "execution_count": 33,
      "metadata": {},
      "outputs": [],
      "source": [
        "conn.commit()"
      ]
    },
    {
      "cell_type": "code",
      "execution_count": 34,
      "metadata": {},
      "outputs": [],
      "source": [
        "conn.close()"
      ]
    }
  ],
  "metadata": {
    "colab": {
      "provenance": []
    },
    "kernelspec": {
      "display_name": "Python 3",
      "name": "python3"
    },
    "language_info": {
      "codemirror_mode": {
        "name": "ipython",
        "version": 3
      },
      "file_extension": ".py",
      "mimetype": "text/x-python",
      "name": "python",
      "nbconvert_exporter": "python",
      "pygments_lexer": "ipython3",
      "version": "3.9.18"
    }
  },
  "nbformat": 4,
  "nbformat_minor": 0
}
